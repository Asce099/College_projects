{
 "cells": [
  {
   "cell_type": "markdown",
   "id": "b9caa03b",
   "metadata": {},
   "source": [
    "# Using CleanText"
   ]
  },
  {
   "cell_type": "code",
   "execution_count": 1,
   "id": "3d83a7ff",
   "metadata": {},
   "outputs": [
    {
     "name": "stdout",
     "output_type": "stream",
     "text": [
      "Collecting cleantext\n",
      "  Downloading cleantext-1.1.4-py3-none-any.whl (4.9 kB)\n",
      "Requirement already satisfied: nltk in c:\\users\\ajey kumar\\.conda\\envs\\ta\\lib\\site-packages (from cleantext) (3.7)\n",
      "Requirement already satisfied: click in c:\\users\\ajey kumar\\.conda\\envs\\ta\\lib\\site-packages (from nltk->cleantext) (8.1.3)\n",
      "Requirement already satisfied: joblib in c:\\users\\ajey kumar\\.conda\\envs\\ta\\lib\\site-packages (from nltk->cleantext) (1.1.0)\n",
      "Requirement already satisfied: regex>=2021.8.3 in c:\\users\\ajey kumar\\.conda\\envs\\ta\\lib\\site-packages (from nltk->cleantext) (2022.6.2)\n",
      "Requirement already satisfied: tqdm in c:\\users\\ajey kumar\\.conda\\envs\\ta\\lib\\site-packages (from nltk->cleantext) (4.64.0)\n",
      "Requirement already satisfied: colorama in c:\\users\\ajey kumar\\.conda\\envs\\ta\\lib\\site-packages (from click->nltk->cleantext) (0.4.4)\n",
      "Installing collected packages: cleantext\n",
      "Successfully installed cleantext-1.1.4\n"
     ]
    }
   ],
   "source": [
    "!pip3 install cleantext"
   ]
  },
  {
   "cell_type": "code",
   "execution_count": 2,
   "id": "28d9a012",
   "metadata": {},
   "outputs": [],
   "source": [
    "import cleantext"
   ]
  },
  {
   "cell_type": "code",
   "execution_count": 3,
   "id": "bf495822",
   "metadata": {},
   "outputs": [
    {
     "name": "stdout",
     "output_type": "stream",
     "text": [
      "Help on package cleantext:\n",
      "\n",
      "NAME\n",
      "    cleantext - __init__\n",
      "\n",
      "PACKAGE CONTENTS\n",
      "    cleantext\n",
      "    exceptions\n",
      "\n",
      "FUNCTIONS\n",
      "    clean(text: str, clean_all: bool = True, extra_spaces: bool = False, stemming: bool = False, stopwords: bool = False, lowercase: bool = False, numbers: bool = False, punct: bool = False, reg: str = '', reg_replace: str = '', stp_lang: str = 'english') -> str\n",
      "        Given a raw string, return cleaned text\n",
      "        \n",
      "        :param text: Input text to clean\n",
      "        :param clean_all: Execute all cleaning operations\n",
      "        :param extra_spaces: Remove extra white spaces\n",
      "        :param stemming: Stem the words\n",
      "        :param stopwords: Remove stop words\n",
      "        :param lowercase: Convert to lowercase\n",
      "        :param numbers: Remove all digits\n",
      "        :param punct: Remove all punctuations\n",
      "        :param reg: Regular expression for removing or replacing\n",
      "        :param reg_replace: Replace the part with regular expression(reg)\n",
      "        :param stp_lang: Language for stop words\n",
      "        :return: Cleaned text\n",
      "    \n",
      "    clean_words(text: str, clean_all: bool = True, extra_spaces: bool = False, stemming: bool = False, stopwords: bool = False, lowercase: bool = False, numbers: bool = False, punct: bool = False, reg: str = '', reg_replace: str = '', stp_lang: str = 'english') -> list\n",
      "        Given a raw string, return list of clean words\n",
      "        \n",
      "        :param text: Input text to clean\n",
      "        :param clean_all: Execute all cleaning operations\n",
      "        :param extra_spaces: Remove extra white spaces\n",
      "        :param stemming: Stem the words\n",
      "        :param stopwords: Remove stop words\n",
      "        :param lowercase: Convert to lowercase\n",
      "        :param numbers: Remove all digits\n",
      "        :param punct: Remove all punctuations\n",
      "        :param reg: Regular expression for removing or replacing\n",
      "        :param reg_replace: Replace the part with regular expression(reg)\n",
      "        :param stp_lang: Language for stop words\n",
      "\n",
      "DATA\n",
      "    __all__ = ['clean', 'clean_words']\n",
      "    __maintainer__ = 'Prasanth Gudiwada'\n",
      "\n",
      "VERSION\n",
      "    1.1.4\n",
      "\n",
      "FILE\n",
      "    c:\\users\\ajey kumar\\.conda\\envs\\ta\\lib\\site-packages\\cleantext\\__init__.py\n",
      "\n",
      "\n"
     ]
    }
   ],
   "source": [
    "help(cleantext)"
   ]
  },
  {
   "cell_type": "code",
   "execution_count": 4,
   "id": "4a974f67",
   "metadata": {},
   "outputs": [
    {
     "data": {
      "text/plain": [
       "\"Hello! How are you!! I'm very excited that you're going for a trip to Europe!! Yayy!\""
      ]
     },
     "execution_count": 4,
     "metadata": {},
     "output_type": "execute_result"
    }
   ],
   "source": [
    "text1 = \"Hello! How are you!! I'm very excited that you're going for a trip to Europe!! Yayy!\"\n",
    "text1"
   ]
  },
  {
   "cell_type": "code",
   "execution_count": 5,
   "id": "ca0131ee",
   "metadata": {},
   "outputs": [
    {
     "data": {
      "text/plain": [
       "'hey amazon - my package never arrived https://www.amazon.com/gp/css/order-history?ref_=nav_orders_first please fix asap! @amazonhelp'"
      ]
     },
     "execution_count": 5,
     "metadata": {},
     "output_type": "execute_result"
    }
   ],
   "source": [
    "text2 = \"hey amazon - my package never arrived https://www.amazon.com/gp/css/order-history?ref_=nav_orders_first please fix asap! @amazonhelp\"\n",
    "text2"
   ]
  },
  {
   "cell_type": "code",
   "execution_count": 6,
   "id": "4358828e",
   "metadata": {},
   "outputs": [
    {
     "data": {
      "text/plain": [
       "\"I enjoyd the event which took place yesteday &amp; I luvd it ! The link to the show is http://t.co/4ftYom0i It's awesome you'll luv it #HadFun #Enjoyed BFN GN\""
      ]
     },
     "execution_count": 6,
     "metadata": {},
     "output_type": "execute_result"
    }
   ],
   "source": [
    "tw=\"I enjoyd the event which took place yesteday &amp; I luvd it ! The link to the show is http://t.co/4ftYom0i It's awesome you'll luv it #HadFun #Enjoyed BFN GN\"\n",
    "tw"
   ]
  },
  {
   "cell_type": "code",
   "execution_count": 8,
   "id": "da816a36",
   "metadata": {},
   "outputs": [
    {
     "data": {
      "text/plain": [
       "'hello im excit your go trip europ yayi'"
      ]
     },
     "execution_count": 8,
     "metadata": {},
     "output_type": "execute_result"
    }
   ],
   "source": [
    "cleantext.clean(text1, clean_all= True)"
   ]
  },
  {
   "cell_type": "code",
   "execution_count": 9,
   "id": "bd1432f9",
   "metadata": {},
   "outputs": [
    {
     "data": {
      "text/plain": [
       "'hey amazon packag never arriv httpswwwamazoncomgpcssorderhistoryrefnavordersfirst pleas fix asap amazonhelp'"
      ]
     },
     "execution_count": 9,
     "metadata": {},
     "output_type": "execute_result"
    }
   ],
   "source": [
    "cleantext.clean(text2, clean_all= True)"
   ]
  },
  {
   "cell_type": "code",
   "execution_count": 10,
   "id": "13958d09",
   "metadata": {},
   "outputs": [
    {
     "data": {
      "text/plain": [
       "'enjoyd event took place yesteday amp luvd link show httptcoftyomi awesom youll luv hadfun enjoy bfn gn'"
      ]
     },
     "execution_count": 10,
     "metadata": {},
     "output_type": "execute_result"
    }
   ],
   "source": [
    "cleantext.clean(tw, clean_all= True)"
   ]
  },
  {
   "cell_type": "code",
   "execution_count": 11,
   "id": "e269eb4c",
   "metadata": {},
   "outputs": [
    {
     "ename": "TypeError",
     "evalue": "clean() got an unexpected keyword argument 'fix_unicode'",
     "output_type": "error",
     "traceback": [
      "\u001b[1;31m---------------------------------------------------------------------------\u001b[0m",
      "\u001b[1;31mTypeError\u001b[0m                                 Traceback (most recent call last)",
      "Input \u001b[1;32mIn [11]\u001b[0m, in \u001b[0;36m<cell line: 1>\u001b[1;34m()\u001b[0m\n\u001b[1;32m----> 1\u001b[0m \u001b[43mcleantext\u001b[49m\u001b[38;5;241;43m.\u001b[39;49m\u001b[43mclean\u001b[49m\u001b[43m(\u001b[49m\u001b[38;5;124;43m\"\u001b[39;49m\u001b[38;5;124;43mZürich\u001b[39;49m\u001b[38;5;124;43m\"\u001b[39;49m\u001b[43m,\u001b[49m\u001b[43m \u001b[49m\u001b[43mfix_unicode\u001b[49m\u001b[38;5;241;43m=\u001b[39;49m\u001b[38;5;28;43;01mTrue\u001b[39;49;00m\u001b[43m)\u001b[49m\n",
      "\u001b[1;31mTypeError\u001b[0m: clean() got an unexpected keyword argument 'fix_unicode'"
     ]
    }
   ],
   "source": [
    "cleantext.clean(\"Zürich\", fix_unicode=True)"
   ]
  },
  {
   "cell_type": "markdown",
   "id": "77797faa",
   "metadata": {},
   "source": [
    "# Using Clean-Text"
   ]
  },
  {
   "cell_type": "code",
   "execution_count": 12,
   "id": "3bd391a9",
   "metadata": {},
   "outputs": [
    {
     "name": "stdout",
     "output_type": "stream",
     "text": [
      "Collecting clean-text\n",
      "  Downloading clean_text-0.6.0-py3-none-any.whl (11 kB)\n",
      "Collecting ftfy<7.0,>=6.0\n",
      "  Downloading ftfy-6.1.1-py3-none-any.whl (53 kB)\n",
      "     -------------------------------------- 53.1/53.1 kB 455.9 kB/s eta 0:00:00\n",
      "Collecting emoji<2.0.0,>=1.0.0\n",
      "  Downloading emoji-1.7.0.tar.gz (175 kB)\n",
      "     ------------------------------------ 175.4/175.4 kB 883.4 kB/s eta 0:00:00\n",
      "  Preparing metadata (setup.py): started\n",
      "  Preparing metadata (setup.py): finished with status 'done'\n",
      "Requirement already satisfied: wcwidth>=0.2.5 in c:\\users\\ajey kumar\\.conda\\envs\\ta\\lib\\site-packages (from ftfy<7.0,>=6.0->clean-text) (0.2.5)\n",
      "Building wheels for collected packages: emoji\n",
      "  Building wheel for emoji (setup.py): started\n",
      "  Building wheel for emoji (setup.py): finished with status 'done'\n",
      "  Created wheel for emoji: filename=emoji-1.7.0-py3-none-any.whl size=171046 sha256=f2ceaae2230523086901b7e0433034953e8dac9a1d9f5e5bc534847d3385b9c1\n",
      "  Stored in directory: c:\\users\\ajey kumar\\appdata\\local\\pip\\cache\\wheels\\fa\\7a\\e9\\22dd0515e1bad255e51663ee513a2fa839c95934c5fc301090\n",
      "Successfully built emoji\n",
      "Installing collected packages: emoji, ftfy, clean-text\n",
      "Successfully installed clean-text-0.6.0 emoji-1.7.0 ftfy-6.1.1\n"
     ]
    }
   ],
   "source": [
    "!pip3 install clean-text"
   ]
  },
  {
   "cell_type": "code",
   "execution_count": 13,
   "id": "3da6566b",
   "metadata": {},
   "outputs": [],
   "source": [
    "from cleantext import clean"
   ]
  },
  {
   "cell_type": "code",
   "execution_count": 14,
   "id": "4d49db91",
   "metadata": {},
   "outputs": [
    {
     "name": "stdout",
     "output_type": "stream",
     "text": [
      "Help on function clean in module cleantext.cleantext:\n",
      "\n",
      "clean(text: str, clean_all: bool = True, extra_spaces: bool = False, stemming: bool = False, stopwords: bool = False, lowercase: bool = False, numbers: bool = False, punct: bool = False, reg: str = '', reg_replace: str = '', stp_lang: str = 'english') -> str\n",
      "    Given a raw string, return cleaned text\n",
      "    \n",
      "    :param text: Input text to clean\n",
      "    :param clean_all: Execute all cleaning operations\n",
      "    :param extra_spaces: Remove extra white spaces\n",
      "    :param stemming: Stem the words\n",
      "    :param stopwords: Remove stop words\n",
      "    :param lowercase: Convert to lowercase\n",
      "    :param numbers: Remove all digits\n",
      "    :param punct: Remove all punctuations\n",
      "    :param reg: Regular expression for removing or replacing\n",
      "    :param reg_replace: Replace the part with regular expression(reg)\n",
      "    :param stp_lang: Language for stop words\n",
      "    :return: Cleaned text\n",
      "\n"
     ]
    }
   ],
   "source": [
    "help(clean)"
   ]
  },
  {
   "cell_type": "code",
   "execution_count": 15,
   "id": "09f56a24",
   "metadata": {},
   "outputs": [
    {
     "name": "stdout",
     "output_type": "stream",
     "text": [
      "Requirement already satisfied: clean-text[gpl] in c:\\users\\ajey kumar\\.conda\\envs\\ta\\lib\\site-packages (0.6.0)\n",
      "Requirement already satisfied: ftfy<7.0,>=6.0 in c:\\users\\ajey kumar\\.conda\\envs\\ta\\lib\\site-packages (from clean-text[gpl]) (6.1.1)\n",
      "Requirement already satisfied: emoji<2.0.0,>=1.0.0 in c:\\users\\ajey kumar\\.conda\\envs\\ta\\lib\\site-packages (from clean-text[gpl]) (1.7.0)\n",
      "Collecting unidecode<2.0.0,>=1.1.1\n",
      "  Downloading Unidecode-1.3.4-py3-none-any.whl (235 kB)\n",
      "     -------------------------------------- 235.9/235.9 kB 3.6 MB/s eta 0:00:00\n",
      "Requirement already satisfied: wcwidth>=0.2.5 in c:\\users\\ajey kumar\\.conda\\envs\\ta\\lib\\site-packages (from ftfy<7.0,>=6.0->clean-text[gpl]) (0.2.5)\n",
      "Installing collected packages: unidecode\n",
      "Successfully installed unidecode-1.3.4\n"
     ]
    }
   ],
   "source": [
    "!pip3 install clean-text[gpl]"
   ]
  },
  {
   "cell_type": "code",
   "execution_count": 16,
   "id": "b439432a",
   "metadata": {},
   "outputs": [],
   "source": [
    "from cleantext import clean"
   ]
  },
  {
   "cell_type": "code",
   "execution_count": 17,
   "id": "38662f15",
   "metadata": {},
   "outputs": [
    {
     "name": "stdout",
     "output_type": "stream",
     "text": [
      "Help on function clean in module cleantext.cleantext:\n",
      "\n",
      "clean(text: str, clean_all: bool = True, extra_spaces: bool = False, stemming: bool = False, stopwords: bool = False, lowercase: bool = False, numbers: bool = False, punct: bool = False, reg: str = '', reg_replace: str = '', stp_lang: str = 'english') -> str\n",
      "    Given a raw string, return cleaned text\n",
      "    \n",
      "    :param text: Input text to clean\n",
      "    :param clean_all: Execute all cleaning operations\n",
      "    :param extra_spaces: Remove extra white spaces\n",
      "    :param stemming: Stem the words\n",
      "    :param stopwords: Remove stop words\n",
      "    :param lowercase: Convert to lowercase\n",
      "    :param numbers: Remove all digits\n",
      "    :param punct: Remove all punctuations\n",
      "    :param reg: Regular expression for removing or replacing\n",
      "    :param reg_replace: Replace the part with regular expression(reg)\n",
      "    :param stp_lang: Language for stop words\n",
      "    :return: Cleaned text\n",
      "\n"
     ]
    }
   ],
   "source": [
    "help(clean)"
   ]
  },
  {
   "cell_type": "code",
   "execution_count": 18,
   "id": "40364706",
   "metadata": {},
   "outputs": [
    {
     "ename": "TypeError",
     "evalue": "clean() got an unexpected keyword argument 'fix_unicode'",
     "output_type": "error",
     "traceback": [
      "\u001b[1;31m---------------------------------------------------------------------------\u001b[0m",
      "\u001b[1;31mTypeError\u001b[0m                                 Traceback (most recent call last)",
      "Input \u001b[1;32mIn [18]\u001b[0m, in \u001b[0;36m<cell line: 1>\u001b[1;34m()\u001b[0m\n\u001b[1;32m----> 1\u001b[0m \u001b[43mclean\u001b[49m\u001b[43m(\u001b[49m\u001b[38;5;124;43m\"\u001b[39;49m\u001b[38;5;124;43mZürich\u001b[39;49m\u001b[38;5;124;43m\"\u001b[39;49m\u001b[43m,\u001b[49m\u001b[43m \u001b[49m\u001b[43mfix_unicode\u001b[49m\u001b[38;5;241;43m=\u001b[39;49m\u001b[38;5;28;43;01mTrue\u001b[39;49;00m\u001b[43m)\u001b[49m\n",
      "\u001b[1;31mTypeError\u001b[0m: clean() got an unexpected keyword argument 'fix_unicode'"
     ]
    }
   ],
   "source": [
    "clean(\"Zürich\", fix_unicode=True)"
   ]
  },
  {
   "cell_type": "code",
   "execution_count": 19,
   "id": "7a6ae45f",
   "metadata": {},
   "outputs": [
    {
     "ename": "SyntaxError",
     "evalue": "invalid syntax (259219827.py, line 1)",
     "output_type": "error",
     "traceback": [
      "\u001b[1;36m  Input \u001b[1;32mIn [19]\u001b[1;36m\u001b[0m\n\u001b[1;33m    from clean-text import clean\u001b[0m\n\u001b[1;37m              ^\u001b[0m\n\u001b[1;31mSyntaxError\u001b[0m\u001b[1;31m:\u001b[0m invalid syntax\n"
     ]
    }
   ],
   "source": [
    "from clean-text import clean"
   ]
  },
  {
   "cell_type": "code",
   "execution_count": 20,
   "id": "6d2452bc",
   "metadata": {},
   "outputs": [
    {
     "ename": "SyntaxError",
     "evalue": "invalid syntax (1140146049.py, line 1)",
     "output_type": "error",
     "traceback": [
      "\u001b[1;36m  Input \u001b[1;32mIn [20]\u001b[1;36m\u001b[0m\n\u001b[1;33m    import clean-text\u001b[0m\n\u001b[1;37m                ^\u001b[0m\n\u001b[1;31mSyntaxError\u001b[0m\u001b[1;31m:\u001b[0m invalid syntax\n"
     ]
    }
   ],
   "source": [
    "import clean-text"
   ]
  },
  {
   "cell_type": "code",
   "execution_count": null,
   "id": "8f0ae8be",
   "metadata": {},
   "outputs": [],
   "source": [
    "#References\n",
    "https://analyticsindiamag.com/guide-to-cleantext-a-python-package-to-clean-raw-text-data/\n"
   ]
  }
 ],
 "metadata": {
  "kernelspec": {
   "display_name": "Python 3 (ipykernel)",
   "language": "python",
   "name": "python3"
  },
  "language_info": {
   "codemirror_mode": {
    "name": "ipython",
    "version": 3
   },
   "file_extension": ".py",
   "mimetype": "text/x-python",
   "name": "python",
   "nbconvert_exporter": "python",
   "pygments_lexer": "ipython3",
   "version": "3.9.12"
  }
 },
 "nbformat": 4,
 "nbformat_minor": 5
}
