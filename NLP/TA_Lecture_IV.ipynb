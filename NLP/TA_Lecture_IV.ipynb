{
 "cells": [
  {
   "cell_type": "markdown",
   "id": "47b686e4",
   "metadata": {},
   "source": [
    "# Text Pre-Processing"
   ]
  },
  {
   "cell_type": "markdown",
   "id": "ec5f7b86",
   "metadata": {},
   "source": [
    "#Removing extra spaces"
   ]
  },
  {
   "cell_type": "code",
   "execution_count": 1,
   "id": "48645193",
   "metadata": {},
   "outputs": [],
   "source": [
    "import re  # regular expression package"
   ]
  },
  {
   "cell_type": "code",
   "execution_count": 3,
   "id": "2dcc0894",
   "metadata": {},
   "outputs": [
    {
     "name": "stdout",
     "output_type": "stream",
     "text": [
      "NLP is an interesting field. \n"
     ]
    }
   ],
   "source": [
    "doc = \"NLP  is an interesting     field.  \"\n",
    "new_doc = re.sub(\"\\s+\",\" \", doc)\n",
    "print(new_doc)"
   ]
  },
  {
   "cell_type": "markdown",
   "id": "741c96a9",
   "metadata": {},
   "source": [
    "#Removing punctuations"
   ]
  },
  {
   "cell_type": "code",
   "execution_count": 4,
   "id": "14d0df1c",
   "metadata": {},
   "outputs": [
    {
     "data": {
      "text/plain": [
       "'Hello How are you Im very excited that youre going for a trip to Europe Yayy'"
      ]
     },
     "execution_count": 4,
     "metadata": {},
     "output_type": "execute_result"
    }
   ],
   "source": [
    "text = \"Hello! How are you!! I'm very excited that you're going for a trip to Europe!! Yayy!\"\n",
    "re.sub(\"[^-9A-Za-z ]\", \"\" , text)"
   ]
  },
  {
   "cell_type": "code",
   "execution_count": 5,
   "id": "9d373b86",
   "metadata": {},
   "outputs": [
    {
     "data": {
      "text/plain": [
       "'Hello How are you Im very excited that youre going for a trip to Europe Yayy'"
      ]
     },
     "execution_count": 5,
     "metadata": {},
     "output_type": "execute_result"
    }
   ],
   "source": [
    "import string\n",
    "text = \"Hello! How are you!! I'm very excited that you're going for a trip to Europe!! Yayy!\"\n",
    "text_clean = \"\".join([i for i in text if i not in string.punctuation])\n",
    "text_clean"
   ]
  },
  {
   "cell_type": "code",
   "execution_count": 9,
   "id": "dbf3f4ea",
   "metadata": {},
   "outputs": [
    {
     "name": "stdout",
     "output_type": "stream",
     "text": [
      "hey amazon  my package never arrived  please fix asap amazonhelp\n"
     ]
    }
   ],
   "source": [
    "text = \"hey amazon - my package never arrived https://www.amazon.com/gp/css/order-history?ref_=nav_orders_first please fix asap! @amazonhelp\"\n",
    "\n",
    "text = re.sub(r\"(@\\[A-Za-z0-9]+)|([^0-9A-Za-z \\t])|(\\w+:\\/\\/\\S+)|^rt|http.+?\", \"\", text)\n",
    "\n",
    "print(text)"
   ]
  },
  {
   "cell_type": "markdown",
   "id": "9882ebee",
   "metadata": {},
   "source": [
    "#Removing URLs"
   ]
  },
  {
   "cell_type": "code",
   "execution_count": 7,
   "id": "cf105304",
   "metadata": {},
   "outputs": [
    {
     "name": "stdout",
     "output_type": "stream",
     "text": [
      "hey amazon - my package never arrived  please fix asap! @amazonhelp\n"
     ]
    }
   ],
   "source": [
    "text = \"hey amazon - my package never arrived https://www.amazon.com/gp/css/order-history?ref_=nav_orders_first please fix asap! @amazonhelp\"\n",
    "\n",
    "text = re.sub(r\"(\\w+:\\/\\/\\S+)|^rt|http.+?\", \"\", text)\n",
    "\n",
    "print(text)"
   ]
  },
  {
   "cell_type": "markdown",
   "id": "0248fd25",
   "metadata": {},
   "source": [
    "# Removing @"
   ]
  },
  {
   "cell_type": "code",
   "execution_count": 10,
   "id": "e34f2a52",
   "metadata": {},
   "outputs": [
    {
     "name": "stdout",
     "output_type": "stream",
     "text": [
      "hey amazon - my package never arrived https://www.amazon.com/gp/css/order-history?ref_=nav_orders_first please fix asap! \n"
     ]
    }
   ],
   "source": [
    "text = \"hey amazon - my package never arrived https://www.amazon.com/gp/css/order-history?ref_=nav_orders_first please fix asap! @amazonhelp\"\n",
    "\n",
    "text = re.sub(r\"(@[A-Za-z0-9]+)\", \"\", text)\n",
    "\n",
    "print(text)"
   ]
  },
  {
   "cell_type": "code",
   "execution_count": 11,
   "id": "92edb556",
   "metadata": {},
   "outputs": [
    {
     "name": "stdout",
     "output_type": "stream",
     "text": [
      "hey amazon - my package never arrived https://www.amazon.com/gp/css/order-history?ref_=nav_orders_first please fix asap! amazonhelp\n"
     ]
    }
   ],
   "source": [
    "text = \"hey amazon - my package never arrived https://www.amazon.com/gp/css/order-history?ref_=nav_orders_first please fix asap! @amazonhelp\"\n",
    "\n",
    "text = re.sub(r\"(@)\", \"\", text)\n",
    "\n",
    "print(text)"
   ]
  },
  {
   "cell_type": "code",
   "execution_count": null,
   "id": "22b04842",
   "metadata": {},
   "outputs": [],
   "source": []
  },
  {
   "cell_type": "code",
   "execution_count": 13,
   "id": "bb03f73f",
   "metadata": {},
   "outputs": [
    {
     "data": {
      "text/plain": [
       "\"I enjoyd the event which took place yesteday &amp; I luvd it ! The link to the show is http://t.co/4ftYom0i It's awesome you'll luv it #HadFun #Enjoyed BFN GN\""
      ]
     },
     "execution_count": 13,
     "metadata": {},
     "output_type": "execute_result"
    }
   ],
   "source": [
    "tw=\"I enjoyd the event which took place yesteday &amp; I luvd it ! The link to the show is http://t.co/4ftYom0i It's awesome you'll luv it #HadFun #Enjoyed BFN GN\"\n",
    "tw"
   ]
  },
  {
   "cell_type": "code",
   "execution_count": null,
   "id": "f9dd9216",
   "metadata": {},
   "outputs": [],
   "source": [
    "# Cleaning HTML Characters"
   ]
  },
  {
   "cell_type": "code",
   "execution_count": 20,
   "id": "03d32e9b",
   "metadata": {},
   "outputs": [],
   "source": [
    "import html"
   ]
  },
  {
   "cell_type": "code",
   "execution_count": 22,
   "id": "2869ca55",
   "metadata": {},
   "outputs": [
    {
     "ename": "AttributeError",
     "evalue": "'NoneType' object has no attribute 'replace'",
     "output_type": "error",
     "traceback": [
      "\u001b[1;31m---------------------------------------------------------------------------\u001b[0m",
      "\u001b[1;31mAttributeError\u001b[0m                            Traceback (most recent call last)",
      "Input \u001b[1;32mIn [22]\u001b[0m, in \u001b[0;36m<cell line: 1>\u001b[1;34m()\u001b[0m\n\u001b[1;32m----> 1\u001b[0m tw\u001b[38;5;241m=\u001b[39m\u001b[43mhtml\u001b[49m\u001b[38;5;241;43m.\u001b[39;49m\u001b[43mescape\u001b[49m\u001b[43m(\u001b[49m\u001b[43mtw\u001b[49m\u001b[43m)\u001b[49m\n\u001b[0;32m      2\u001b[0m tw\n",
      "File \u001b[1;32m~\\.conda\\envs\\TA\\lib\\html\\__init__.py:19\u001b[0m, in \u001b[0;36mescape\u001b[1;34m(s, quote)\u001b[0m\n\u001b[0;32m     12\u001b[0m \u001b[38;5;28;01mdef\u001b[39;00m \u001b[38;5;21mescape\u001b[39m(s, quote\u001b[38;5;241m=\u001b[39m\u001b[38;5;28;01mTrue\u001b[39;00m):\n\u001b[0;32m     13\u001b[0m     \u001b[38;5;124;03m\"\"\"\u001b[39;00m\n\u001b[0;32m     14\u001b[0m \u001b[38;5;124;03m    Replace special characters \"&\", \"<\" and \">\" to HTML-safe sequences.\u001b[39;00m\n\u001b[0;32m     15\u001b[0m \u001b[38;5;124;03m    If the optional flag quote is true (the default), the quotation mark\u001b[39;00m\n\u001b[0;32m     16\u001b[0m \u001b[38;5;124;03m    characters, both double quote (\") and single quote (') characters are also\u001b[39;00m\n\u001b[0;32m     17\u001b[0m \u001b[38;5;124;03m    translated.\u001b[39;00m\n\u001b[0;32m     18\u001b[0m \u001b[38;5;124;03m    \"\"\"\u001b[39;00m\n\u001b[1;32m---> 19\u001b[0m     s \u001b[38;5;241m=\u001b[39m \u001b[43ms\u001b[49m\u001b[38;5;241;43m.\u001b[39;49m\u001b[43mreplace\u001b[49m(\u001b[38;5;124m\"\u001b[39m\u001b[38;5;124m&\u001b[39m\u001b[38;5;124m\"\u001b[39m, \u001b[38;5;124m\"\u001b[39m\u001b[38;5;124m&amp;\u001b[39m\u001b[38;5;124m\"\u001b[39m) \u001b[38;5;66;03m# Must be done first!\u001b[39;00m\n\u001b[0;32m     20\u001b[0m     s \u001b[38;5;241m=\u001b[39m s\u001b[38;5;241m.\u001b[39mreplace(\u001b[38;5;124m\"\u001b[39m\u001b[38;5;124m<\u001b[39m\u001b[38;5;124m\"\u001b[39m, \u001b[38;5;124m\"\u001b[39m\u001b[38;5;124m&lt;\u001b[39m\u001b[38;5;124m\"\u001b[39m)\n\u001b[0;32m     21\u001b[0m     s \u001b[38;5;241m=\u001b[39m s\u001b[38;5;241m.\u001b[39mreplace(\u001b[38;5;124m\"\u001b[39m\u001b[38;5;124m>\u001b[39m\u001b[38;5;124m\"\u001b[39m, \u001b[38;5;124m\"\u001b[39m\u001b[38;5;124m&gt;\u001b[39m\u001b[38;5;124m\"\u001b[39m)\n",
      "\u001b[1;31mAttributeError\u001b[0m: 'NoneType' object has no attribute 'replace'"
     ]
    }
   ],
   "source": [
    "tw=html.escape(tw)\n",
    "tw"
   ]
  },
  {
   "cell_type": "code",
   "execution_count": 16,
   "id": "833fe983",
   "metadata": {},
   "outputs": [
    {
     "name": "stdout",
     "output_type": "stream",
     "text": [
      "Help on class HTMLParser in module html.parser:\n",
      "\n",
      "class HTMLParser(_markupbase.ParserBase)\n",
      " |  HTMLParser(*, convert_charrefs=True)\n",
      " |  \n",
      " |  Find tags and other markup and call handler functions.\n",
      " |  \n",
      " |  Usage:\n",
      " |      p = HTMLParser()\n",
      " |      p.feed(data)\n",
      " |      ...\n",
      " |      p.close()\n",
      " |  \n",
      " |  Start tags are handled by calling self.handle_starttag() or\n",
      " |  self.handle_startendtag(); end tags by self.handle_endtag().  The\n",
      " |  data between tags is passed from the parser to the derived class\n",
      " |  by calling self.handle_data() with the data as argument (the data\n",
      " |  may be split up in arbitrary chunks).  If convert_charrefs is\n",
      " |  True the character references are converted automatically to the\n",
      " |  corresponding Unicode character (and self.handle_data() is no\n",
      " |  longer split in chunks), otherwise they are passed by calling\n",
      " |  self.handle_entityref() or self.handle_charref() with the string\n",
      " |  containing respectively the named or numeric reference as the\n",
      " |  argument.\n",
      " |  \n",
      " |  Method resolution order:\n",
      " |      HTMLParser\n",
      " |      _markupbase.ParserBase\n",
      " |      builtins.object\n",
      " |  \n",
      " |  Methods defined here:\n",
      " |  \n",
      " |  __init__(self, *, convert_charrefs=True)\n",
      " |      Initialize and reset this instance.\n",
      " |      \n",
      " |      If convert_charrefs is True (the default), all character references\n",
      " |      are automatically converted to the corresponding Unicode characters.\n",
      " |  \n",
      " |  check_for_whole_start_tag(self, i)\n",
      " |      # Internal -- check to see if we have a complete starttag; return end\n",
      " |      # or -1 if incomplete.\n",
      " |  \n",
      " |  clear_cdata_mode(self)\n",
      " |  \n",
      " |  close(self)\n",
      " |      Handle any buffered data.\n",
      " |  \n",
      " |  feed(self, data)\n",
      " |      Feed data to the parser.\n",
      " |      \n",
      " |      Call this as often as you want, with as little or as much text\n",
      " |      as you want (may include '\\n').\n",
      " |  \n",
      " |  get_starttag_text(self)\n",
      " |      Return full source of start tag: '<...>'.\n",
      " |  \n",
      " |  goahead(self, end)\n",
      " |      # Internal -- handle data as far as reasonable.  May leave state\n",
      " |      # and data to be processed by a subsequent call.  If 'end' is\n",
      " |      # true, force handling all data as if followed by EOF marker.\n",
      " |  \n",
      " |  handle_charref(self, name)\n",
      " |      # Overridable -- handle character reference\n",
      " |  \n",
      " |  handle_comment(self, data)\n",
      " |      # Overridable -- handle comment\n",
      " |  \n",
      " |  handle_data(self, data)\n",
      " |      # Overridable -- handle data\n",
      " |  \n",
      " |  handle_decl(self, decl)\n",
      " |      # Overridable -- handle declaration\n",
      " |  \n",
      " |  handle_endtag(self, tag)\n",
      " |      # Overridable -- handle end tag\n",
      " |  \n",
      " |  handle_entityref(self, name)\n",
      " |      # Overridable -- handle entity reference\n",
      " |  \n",
      " |  handle_pi(self, data)\n",
      " |      # Overridable -- handle processing instruction\n",
      " |  \n",
      " |  handle_startendtag(self, tag, attrs)\n",
      " |      # Overridable -- finish processing of start+end tag: <tag.../>\n",
      " |  \n",
      " |  handle_starttag(self, tag, attrs)\n",
      " |      # Overridable -- handle start tag\n",
      " |  \n",
      " |  parse_bogus_comment(self, i, report=1)\n",
      " |      # Internal -- parse bogus comment, return length or -1 if not terminated\n",
      " |      # see http://www.w3.org/TR/html5/tokenization.html#bogus-comment-state\n",
      " |  \n",
      " |  parse_endtag(self, i)\n",
      " |      # Internal -- parse endtag, return end or -1 if incomplete\n",
      " |  \n",
      " |  parse_html_declaration(self, i)\n",
      " |      # Internal -- parse html declarations, return length or -1 if not terminated\n",
      " |      # See w3.org/TR/html5/tokenization.html#markup-declaration-open-state\n",
      " |      # See also parse_declaration in _markupbase\n",
      " |  \n",
      " |  parse_pi(self, i)\n",
      " |      # Internal -- parse processing instr, return end or -1 if not terminated\n",
      " |  \n",
      " |  parse_starttag(self, i)\n",
      " |      # Internal -- handle starttag, return end or -1 if not terminated\n",
      " |  \n",
      " |  reset(self)\n",
      " |      Reset this instance.  Loses all unprocessed data.\n",
      " |  \n",
      " |  set_cdata_mode(self, elem)\n",
      " |  \n",
      " |  unknown_decl(self, data)\n",
      " |  \n",
      " |  ----------------------------------------------------------------------\n",
      " |  Data and other attributes defined here:\n",
      " |  \n",
      " |  CDATA_CONTENT_ELEMENTS = ('script', 'style')\n",
      " |  \n",
      " |  ----------------------------------------------------------------------\n",
      " |  Methods inherited from _markupbase.ParserBase:\n",
      " |  \n",
      " |  error(self, message)\n",
      " |  \n",
      " |  getpos(self)\n",
      " |      Return current line number and offset.\n",
      " |  \n",
      " |  parse_comment(self, i, report=1)\n",
      " |      # Internal -- parse comment, return length or -1 if not terminated\n",
      " |  \n",
      " |  parse_declaration(self, i)\n",
      " |      # Internal -- parse declaration (for use by subclasses).\n",
      " |  \n",
      " |  parse_marked_section(self, i, report=1)\n",
      " |      # Internal -- parse a marked section\n",
      " |      # Override this to handle MS-word extension syntax <![if word]>content<![endif]>\n",
      " |  \n",
      " |  updatepos(self, i, j)\n",
      " |      # Internal -- update line number and offset.  This should be\n",
      " |      # called for each piece of data exactly once, in order -- in other\n",
      " |      # words the concatenation of all the input strings to this\n",
      " |      # function should be exactly the entire input.\n",
      " |  \n",
      " |  ----------------------------------------------------------------------\n",
      " |  Data descriptors inherited from _markupbase.ParserBase:\n",
      " |  \n",
      " |  __dict__\n",
      " |      dictionary for instance variables (if defined)\n",
      " |  \n",
      " |  __weakref__\n",
      " |      list of weak references to the object (if defined)\n",
      "\n"
     ]
    }
   ],
   "source": [
    "help(HTMLParser)"
   ]
  },
  {
   "cell_type": "code",
   "execution_count": 23,
   "id": "1309f459",
   "metadata": {},
   "outputs": [
    {
     "ename": "AttributeError",
     "evalue": "'NoneType' object has no attribute 'encode'",
     "output_type": "error",
     "traceback": [
      "\u001b[1;31m---------------------------------------------------------------------------\u001b[0m",
      "\u001b[1;31mAttributeError\u001b[0m                            Traceback (most recent call last)",
      "Input \u001b[1;32mIn [23]\u001b[0m, in \u001b[0;36m<cell line: 2>\u001b[1;34m()\u001b[0m\n\u001b[0;32m      1\u001b[0m \u001b[38;5;66;03m#Encode from UTF-8 to ascii\u001b[39;00m\n\u001b[1;32m----> 2\u001b[0m entw \u001b[38;5;241m=\u001b[39m\u001b[43mtw\u001b[49m\u001b[38;5;241;43m.\u001b[39;49m\u001b[43mencode\u001b[49m(\u001b[38;5;124m'\u001b[39m\u001b[38;5;124mascii\u001b[39m\u001b[38;5;124m'\u001b[39m,\u001b[38;5;124m'\u001b[39m\u001b[38;5;124mignore\u001b[39m\u001b[38;5;124m'\u001b[39m)\n",
      "\u001b[1;31mAttributeError\u001b[0m: 'NoneType' object has no attribute 'encode'"
     ]
    }
   ],
   "source": [
    "#Encode from UTF-8 to ascii\n",
    "entw =tw.encode('ascii','ignore')"
   ]
  },
  {
   "cell_type": "code",
   "execution_count": null,
   "id": "b4904747",
   "metadata": {},
   "outputs": [],
   "source": [
    "#Contraction Replacement"
   ]
  },
  {
   "cell_type": "code",
   "execution_count": null,
   "id": "b6df54b3",
   "metadata": {},
   "outputs": [],
   "source": [
    "Few of the contractions used are:-\n",
    "n't --> not        'll --> will\n",
    "'s  --> is        'd  --> would\n",
    "'m  --> am        've --> have\n",
    "'re --> are"
   ]
  },
  {
   "cell_type": "code",
   "execution_count": 27,
   "id": "df7a10f2",
   "metadata": {},
   "outputs": [
    {
     "data": {
      "text/plain": [
       "\"I enjoyd the event which took place yesteday &amp; I luvd it ! The link to the show is http://t.co/4ftYom0i It's awesome you'll luv it #HadFun #Enjoyed BFN GN\""
      ]
     },
     "execution_count": 27,
     "metadata": {},
     "output_type": "execute_result"
    }
   ],
   "source": [
    "tw=\"I enjoyd the event which took place yesteday &amp; I luvd it ! The link to the show is http://t.co/4ftYom0i It's awesome you'll luv it #HadFun #Enjoyed BFN GN\"\n",
    "tw"
   ]
  },
  {
   "cell_type": "code",
   "execution_count": 24,
   "id": "5ef10c4c",
   "metadata": {},
   "outputs": [],
   "source": [
    "#dictionary consisting of the contraction and the actual value\n",
    "Apos_dict={\"'s\":\" is\",\"n't\":\" not\",\"'m\":\" am\",\"'ll\":\" will\",\n",
    "           \"'d\":\" would\",\"'ve\":\" have\",\"'re\":\" are\"}"
   ]
  },
  {
   "cell_type": "code",
   "execution_count": 30,
   "id": "99d22f3a",
   "metadata": {},
   "outputs": [],
   "source": [
    "#replace the contractions\n",
    "for key,value in Apos_dict.items():\n",
    "    if key in tw:\n",
    "        tw=tw.replace(key,value)"
   ]
  },
  {
   "cell_type": "code",
   "execution_count": 31,
   "id": "51a95961",
   "metadata": {},
   "outputs": [
    {
     "data": {
      "text/plain": [
       "'I enjoyd the event which took place yesteday &amp; I luvd it ! The link to the show is http://t.co/4ftYom0i It is awesome you will luv it #HadFun #Enjoyed BFN GN'"
      ]
     },
     "execution_count": 31,
     "metadata": {},
     "output_type": "execute_result"
    }
   ],
   "source": [
    "tw"
   ]
  },
  {
   "cell_type": "code",
   "execution_count": null,
   "id": "17a2efb9",
   "metadata": {},
   "outputs": [],
   "source": [
    "#Split attached words"
   ]
  },
  {
   "cell_type": "code",
   "execution_count": 32,
   "id": "6dc5b804",
   "metadata": {},
   "outputs": [
    {
     "data": {
      "text/plain": [
       "'I enjoyd the event which took place yesteday &amp; I luvd it !  The link to the show is http://t.co/4ft Yom0i  It is awesome you will luv it # Had Fun # Enjoyed  BFN GN'"
      ]
     },
     "execution_count": 32,
     "metadata": {},
     "output_type": "execute_result"
    }
   ],
   "source": [
    "tw = \" \".join([s for s in re.split(\"([A-Z][a-z]+[^A-Z]*)\",tw) if s])\n",
    "tw"
   ]
  },
  {
   "cell_type": "code",
   "execution_count": null,
   "id": "79680df6",
   "metadata": {},
   "outputs": [],
   "source": []
  },
  {
   "cell_type": "code",
   "execution_count": 33,
   "id": "216a026e",
   "metadata": {},
   "outputs": [],
   "source": [
    "file=open(\"slang.txt\",\"r\")\n",
    "slang=file.read()"
   ]
  },
  {
   "cell_type": "code",
   "execution_count": 34,
   "id": "d70399ef",
   "metadata": {},
   "outputs": [
    {
     "data": {
      "text/plain": [
       "\"afaik=as far as i know\\nafk=away from keyboard\\nasap=as soon as possible\\natk=at the keyboard\\natm=at the moment\\na3=anytime, anywhere, anyplace\\nbak=back at keyboard\\nbbl=be back later\\nbbs=be back soon\\nbfn=bye for now\\nb4n=bye for now\\nbrb=be right back\\nbrt=be right there\\nbtw=by the way\\nb4=before\\nb4n=bye for now\\ncu=see you\\ncul8r=see you later\\ncya=see you\\nfaq=frequently asked questions\\nfc=fingers crossed\\nfwiw=for what it's worth\\nfyi=for your information\\ngal=get a life\\ngg=good game\\ngn=good night\\ngmta=great minds think alike\\ngr8=great!\\ng9=genius\\nic=i see\\nicq=i seek you (also a chat program)\\nilu=ilu: i love you\\nimho=in my honest/humble opinion\\nimo=in my opinion\\niow=in other words\\nirl=in real life\\nkiss=keep it simple, stupid\\nldr=long distance relationship\\nlmao=laugh my a.. off\\nlol=laughing out loud\\nltns=long time no see\\nluv=love\\nl8r=later\\nmte=my thoughts exactly\\nm8=mate\\nnrn=no reply necessary\\noic=oh i see\\npita=pain in the a..\\nprt=party\\nprw=parents are watching\\nqpsa?\\tque pasa?\\nrofl=rolling on the floor laughing\\nroflol=rolling on the floor laughing out loud\\nrotflmao=rolling on the floor laughing my a.. off\\nsk8=skate\\nstats=your sex and age\\nasl=age, sex, location\\nthx=thank you\\nttfn=ta-ta for now!\\nttyl=talk to you later\\nu=you\\nu2=you too\\nu4e=yours for ever\\nwb=welcome back\\nwtf=what the f...\\nwtg=way to go!\\nwuf=where are you from?\\nw8=wait...\\n7k=sick:-d laugher\""
      ]
     },
     "execution_count": 34,
     "metadata": {},
     "output_type": "execute_result"
    }
   ],
   "source": [
    "slang"
   ]
  },
  {
   "cell_type": "code",
   "execution_count": 35,
   "id": "a4c3b080",
   "metadata": {},
   "outputs": [],
   "source": [
    "slang=slang.split('\\n')"
   ]
  },
  {
   "cell_type": "code",
   "execution_count": 36,
   "id": "a40b86b1",
   "metadata": {},
   "outputs": [
    {
     "data": {
      "text/plain": [
       "['afaik=as far as i know',\n",
       " 'afk=away from keyboard',\n",
       " 'asap=as soon as possible',\n",
       " 'atk=at the keyboard',\n",
       " 'atm=at the moment',\n",
       " 'a3=anytime, anywhere, anyplace',\n",
       " 'bak=back at keyboard',\n",
       " 'bbl=be back later',\n",
       " 'bbs=be back soon',\n",
       " 'bfn=bye for now',\n",
       " 'b4n=bye for now',\n",
       " 'brb=be right back',\n",
       " 'brt=be right there',\n",
       " 'btw=by the way',\n",
       " 'b4=before',\n",
       " 'b4n=bye for now',\n",
       " 'cu=see you',\n",
       " 'cul8r=see you later',\n",
       " 'cya=see you',\n",
       " 'faq=frequently asked questions',\n",
       " 'fc=fingers crossed',\n",
       " \"fwiw=for what it's worth\",\n",
       " 'fyi=for your information',\n",
       " 'gal=get a life',\n",
       " 'gg=good game',\n",
       " 'gn=good night',\n",
       " 'gmta=great minds think alike',\n",
       " 'gr8=great!',\n",
       " 'g9=genius',\n",
       " 'ic=i see',\n",
       " 'icq=i seek you (also a chat program)',\n",
       " 'ilu=ilu: i love you',\n",
       " 'imho=in my honest/humble opinion',\n",
       " 'imo=in my opinion',\n",
       " 'iow=in other words',\n",
       " 'irl=in real life',\n",
       " 'kiss=keep it simple, stupid',\n",
       " 'ldr=long distance relationship',\n",
       " 'lmao=laugh my a.. off',\n",
       " 'lol=laughing out loud',\n",
       " 'ltns=long time no see',\n",
       " 'luv=love',\n",
       " 'l8r=later',\n",
       " 'mte=my thoughts exactly',\n",
       " 'm8=mate',\n",
       " 'nrn=no reply necessary',\n",
       " 'oic=oh i see',\n",
       " 'pita=pain in the a..',\n",
       " 'prt=party',\n",
       " 'prw=parents are watching',\n",
       " 'qpsa?\\tque pasa?',\n",
       " 'rofl=rolling on the floor laughing',\n",
       " 'roflol=rolling on the floor laughing out loud',\n",
       " 'rotflmao=rolling on the floor laughing my a.. off',\n",
       " 'sk8=skate',\n",
       " 'stats=your sex and age',\n",
       " 'asl=age, sex, location',\n",
       " 'thx=thank you',\n",
       " 'ttfn=ta-ta for now!',\n",
       " 'ttyl=talk to you later',\n",
       " 'u=you',\n",
       " 'u2=you too',\n",
       " 'u4e=yours for ever',\n",
       " 'wb=welcome back',\n",
       " 'wtf=what the f...',\n",
       " 'wtg=way to go!',\n",
       " 'wuf=where are you from?',\n",
       " 'w8=wait...',\n",
       " '7k=sick:-d laugher']"
      ]
     },
     "execution_count": 36,
     "metadata": {},
     "output_type": "execute_result"
    }
   ],
   "source": [
    "slang"
   ]
  },
  {
   "cell_type": "code",
   "execution_count": 37,
   "id": "bd45de41",
   "metadata": {},
   "outputs": [
    {
     "data": {
      "text/plain": [
       "['I',\n",
       " 'enjoyd',\n",
       " 'the',\n",
       " 'event',\n",
       " 'which',\n",
       " 'took',\n",
       " 'place',\n",
       " 'yesteday',\n",
       " '&amp;',\n",
       " 'I',\n",
       " 'luvd',\n",
       " 'it',\n",
       " '!',\n",
       " 'The',\n",
       " 'link',\n",
       " 'to',\n",
       " 'the',\n",
       " 'show',\n",
       " 'is',\n",
       " 'http://t.co/4ft',\n",
       " 'Yom0i',\n",
       " 'It',\n",
       " 'is',\n",
       " 'awesome',\n",
       " 'you',\n",
       " 'will',\n",
       " 'luv',\n",
       " 'it',\n",
       " '#',\n",
       " 'Had',\n",
       " 'Fun',\n",
       " '#',\n",
       " 'Enjoyed',\n",
       " 'BFN',\n",
       " 'GN']"
      ]
     },
     "execution_count": 37,
     "metadata": {},
     "output_type": "execute_result"
    }
   ],
   "source": [
    "tw_tokens=tw.split()\n",
    "tw_tokens"
   ]
  },
  {
   "cell_type": "code",
   "execution_count": 38,
   "id": "8cc113aa",
   "metadata": {},
   "outputs": [],
   "source": [
    "slang_word=[]\n",
    "meaning=[]"
   ]
  },
  {
   "cell_type": "code",
   "execution_count": 40,
   "id": "7d5d0479",
   "metadata": {},
   "outputs": [
    {
     "data": {
      "text/plain": [
       "['bbl', 'be back later']"
      ]
     },
     "execution_count": 40,
     "metadata": {},
     "output_type": "execute_result"
    }
   ],
   "source": [
    "ex='bbl=be back later'\n",
    "temp=ex.split(\"=\")\n",
    "temp"
   ]
  },
  {
   "cell_type": "code",
   "execution_count": 41,
   "id": "be2ff949",
   "metadata": {},
   "outputs": [
    {
     "data": {
      "text/plain": [
       "'bbl'"
      ]
     },
     "execution_count": 41,
     "metadata": {},
     "output_type": "execute_result"
    }
   ],
   "source": [
    "temp[0]"
   ]
  },
  {
   "cell_type": "code",
   "execution_count": 42,
   "id": "2b66a64f",
   "metadata": {},
   "outputs": [
    {
     "data": {
      "text/plain": [
       "'be back later'"
      ]
     },
     "execution_count": 42,
     "metadata": {},
     "output_type": "execute_result"
    }
   ],
   "source": [
    "temp[1]"
   ]
  },
  {
   "cell_type": "code",
   "execution_count": 43,
   "id": "237572b3",
   "metadata": {},
   "outputs": [
    {
     "data": {
      "text/plain": [
       "'be back later'"
      ]
     },
     "execution_count": 43,
     "metadata": {},
     "output_type": "execute_result"
    }
   ],
   "source": [
    "temp[-1]"
   ]
  },
  {
   "cell_type": "code",
   "execution_count": 44,
   "id": "b25e301b",
   "metadata": {},
   "outputs": [],
   "source": [
    "#store the slang words and meanings in different lists\n",
    "for line in slang:\n",
    "    temp=line.split(\"=\")\n",
    "    slang_word.append(temp[0])\n",
    "    meaning.append(temp[-1])\n",
    " "
   ]
  },
  {
   "cell_type": "code",
   "execution_count": 45,
   "id": "9f109d20",
   "metadata": {},
   "outputs": [
    {
     "data": {
      "text/plain": [
       "'I enjoyd the event which took place yesteday &amp; I luvd it ! The link to the show is http://t.co/4ft Yom0i It is awesome you will love it # Had Fun # Enjoyed BFN GN'"
      ]
     },
     "execution_count": 45,
     "metadata": {},
     "output_type": "execute_result"
    }
   ],
   "source": [
    "#replace the slang word with meaning\n",
    "for i,word in enumerate(tw_tokens):\n",
    "    if word in slang_word:\n",
    "        idx=slang_word.index(word)\n",
    "        tw_tokens[i]=meaning[idx]\n",
    "         \n",
    "twN=\" \".join(tw_tokens)\n",
    "twN"
   ]
  },
  {
   "cell_type": "markdown",
   "id": "c05e1262",
   "metadata": {},
   "source": [
    "#Standardizing and Spell Check"
   ]
  },
  {
   "cell_type": "code",
   "execution_count": 46,
   "id": "a0d0b999",
   "metadata": {},
   "outputs": [
    {
     "name": "stdout",
     "output_type": "stream",
     "text": [
      "Collecting autocorrect\n",
      "  Downloading autocorrect-2.6.1.tar.gz (622 kB)\n",
      "     -------------------------------------- 622.8/622.8 kB 4.4 MB/s eta 0:00:00\n",
      "  Preparing metadata (setup.py): started\n",
      "  Preparing metadata (setup.py): finished with status 'done'\n",
      "Building wheels for collected packages: autocorrect\n",
      "  Building wheel for autocorrect (setup.py): started\n",
      "  Building wheel for autocorrect (setup.py): finished with status 'done'\n",
      "  Created wheel for autocorrect: filename=autocorrect-2.6.1-py3-none-any.whl size=622382 sha256=de2d9dceecd5264f06a24a8d0ee7119f990a2d9c55b8e85b0ad42f88c5651cca\n",
      "  Stored in directory: c:\\users\\ajey kumar\\appdata\\local\\pip\\cache\\wheels\\ab\\0f\\23\\3c010c3fd877b962146e7765f9e9b08026cac8b035094c5750\n",
      "Successfully built autocorrect\n",
      "Installing collected packages: autocorrect\n",
      "Successfully installed autocorrect-2.6.1\n"
     ]
    }
   ],
   "source": [
    "!pip3 install autocorrect"
   ]
  },
  {
   "cell_type": "code",
   "execution_count": 48,
   "id": "9b85fb9a",
   "metadata": {},
   "outputs": [
    {
     "data": {
      "text/plain": [
       "'I enjoyed the event which took place yesterday &amp; I luv it !  The link to the show is http://t.co/4ft You0i  It is awesome you will luv it # Had Fun # Enjoyed  By Gt'"
      ]
     },
     "execution_count": 48,
     "metadata": {},
     "output_type": "execute_result"
    }
   ],
   "source": [
    "from autocorrect import Speller\n",
    "spell = Speller(lang='en')\n",
    "#spell check\n",
    "tw=spell(tw)\n",
    "tw"
   ]
  },
  {
   "cell_type": "code",
   "execution_count": null,
   "id": "21e9e02a",
   "metadata": {},
   "outputs": [],
   "source": []
  },
  {
   "cell_type": "markdown",
   "id": "94d2115c",
   "metadata": {},
   "source": [
    " #Case Normalization"
   ]
  },
  {
   "cell_type": "code",
   "execution_count": null,
   "id": "a7939f9c",
   "metadata": {},
   "outputs": [],
   "source": []
  },
  {
   "cell_type": "code",
   "execution_count": 6,
   "id": "284795cc",
   "metadata": {},
   "outputs": [
    {
     "data": {
      "text/plain": [
       "'hello how are you im very excited that youre going for a trip to europe yayy'"
      ]
     },
     "execution_count": 6,
     "metadata": {},
     "output_type": "execute_result"
    }
   ],
   "source": [
    "# toupper() or tolower()\n",
    "\n",
    "text = \"Hello! How are you!! I'm very excited that you're going for a trip to Europe!! Yayy!\"\n",
    "text_clean = \"\".join([i.lower() for i in text if i not in string.punctuation])\n",
    "text_clean"
   ]
  },
  {
   "cell_type": "markdown",
   "id": "cf5bc37e",
   "metadata": {},
   "source": [
    "#Removing Stopwords"
   ]
  },
  {
   "cell_type": "code",
   "execution_count": null,
   "id": "aafcb84d",
   "metadata": {},
   "outputs": [],
   "source": []
  },
  {
   "cell_type": "markdown",
   "id": "7a2a8990",
   "metadata": {},
   "source": [
    "#Stemming / Lemmatization"
   ]
  },
  {
   "cell_type": "code",
   "execution_count": null,
   "id": "ed2afebf",
   "metadata": {},
   "outputs": [],
   "source": []
  },
  {
   "cell_type": "code",
   "execution_count": null,
   "id": "f245f5d5",
   "metadata": {},
   "outputs": [],
   "source": [
    "#Referencs\n",
    "https://www.geeksforgeeks.org/python-efficient-text-data-cleaning/\n",
    "https://www.analyticsvidhya.com/blog/2020/11/text-cleaning-nltk-library/\n",
    "https://monkeylearn.com/blog/text-cleaning/"
   ]
  }
 ],
 "metadata": {
  "kernelspec": {
   "display_name": "Python 3 (ipykernel)",
   "language": "python",
   "name": "python3"
  },
  "language_info": {
   "codemirror_mode": {
    "name": "ipython",
    "version": 3
   },
   "file_extension": ".py",
   "mimetype": "text/x-python",
   "name": "python",
   "nbconvert_exporter": "python",
   "pygments_lexer": "ipython3",
   "version": "3.9.12"
  }
 },
 "nbformat": 4,
 "nbformat_minor": 5
}
