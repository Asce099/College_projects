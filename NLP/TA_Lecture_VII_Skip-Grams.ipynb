{
 "cells": [
  {
   "cell_type": "markdown",
   "id": "ea7e6adf",
   "metadata": {},
   "source": [
    "# Skip Grams"
   ]
  },
  {
   "cell_type": "code",
   "execution_count": null,
   "id": "d664e7b4",
   "metadata": {},
   "outputs": [],
   "source": [
    "https://en.wikipedia.org/wiki/N-gram\n",
    "https://tedboy.github.io/nlps/generated/generated/nltk.skipgrams.html\n",
    "https://www.machinelearningplus.com/spacy-tutorial-nlp/\n",
    "https://spacy.io/usage/linguistic-features"
   ]
  },
  {
   "cell_type": "code",
   "execution_count": 1,
   "id": "017db171",
   "metadata": {},
   "outputs": [],
   "source": [
    "import nltk"
   ]
  },
  {
   "cell_type": "code",
   "execution_count": 2,
   "id": "a5f9c476",
   "metadata": {},
   "outputs": [],
   "source": [
    "data = 'The Mansoon in India has arrived and its raining heavily now'"
   ]
  },
  {
   "cell_type": "markdown",
   "id": "b15cc927",
   "metadata": {},
   "source": [
    "Syntax\n",
    "\n",
    "nltk.skipgrams(sequence, n, k)\n",
    "n-the degree of the ngrams\n",
    "k-skip distance"
   ]
  },
  {
   "cell_type": "code",
   "execution_count": 3,
   "id": "1ecbc34f",
   "metadata": {},
   "outputs": [
    {
     "data": {
      "text/plain": [
       "['The',\n",
       " 'Mansoon',\n",
       " 'in',\n",
       " 'India',\n",
       " 'has',\n",
       " 'arrived',\n",
       " 'and',\n",
       " 'its',\n",
       " 'raining',\n",
       " 'heavily',\n",
       " 'now']"
      ]
     },
     "execution_count": 3,
     "metadata": {},
     "output_type": "execute_result"
    }
   ],
   "source": [
    "data_t = data.split()\n",
    "data_t"
   ]
  },
  {
   "cell_type": "code",
   "execution_count": 4,
   "id": "98fe874c",
   "metadata": {},
   "outputs": [
    {
     "data": {
      "text/plain": [
       "[('The', 'Mansoon'),\n",
       " ('The', 'in'),\n",
       " ('The', 'India'),\n",
       " ('Mansoon', 'in'),\n",
       " ('Mansoon', 'India'),\n",
       " ('Mansoon', 'has'),\n",
       " ('in', 'India'),\n",
       " ('in', 'has'),\n",
       " ('in', 'arrived'),\n",
       " ('India', 'has'),\n",
       " ('India', 'arrived'),\n",
       " ('India', 'and'),\n",
       " ('has', 'arrived'),\n",
       " ('has', 'and'),\n",
       " ('has', 'its'),\n",
       " ('arrived', 'and'),\n",
       " ('arrived', 'its'),\n",
       " ('arrived', 'raining'),\n",
       " ('and', 'its'),\n",
       " ('and', 'raining'),\n",
       " ('and', 'heavily'),\n",
       " ('its', 'raining'),\n",
       " ('its', 'heavily'),\n",
       " ('its', 'now'),\n",
       " ('raining', 'heavily'),\n",
       " ('raining', 'now'),\n",
       " ('heavily', 'now')]"
      ]
     },
     "execution_count": 4,
     "metadata": {},
     "output_type": "execute_result"
    }
   ],
   "source": [
    "list(nltk.skipgrams(data_t, 2, 2)) # 2-grams with skip distance 2"
   ]
  },
  {
   "cell_type": "code",
   "execution_count": 5,
   "id": "6263d095",
   "metadata": {},
   "outputs": [
    {
     "data": {
      "text/plain": [
       "[('The', 'Mansoon', 'in'),\n",
       " ('The', 'Mansoon', 'India'),\n",
       " ('The', 'Mansoon', 'has'),\n",
       " ('The', 'in', 'India'),\n",
       " ('The', 'in', 'has'),\n",
       " ('The', 'India', 'has'),\n",
       " ('Mansoon', 'in', 'India'),\n",
       " ('Mansoon', 'in', 'has'),\n",
       " ('Mansoon', 'in', 'arrived'),\n",
       " ('Mansoon', 'India', 'has'),\n",
       " ('Mansoon', 'India', 'arrived'),\n",
       " ('Mansoon', 'has', 'arrived'),\n",
       " ('in', 'India', 'has'),\n",
       " ('in', 'India', 'arrived'),\n",
       " ('in', 'India', 'and'),\n",
       " ('in', 'has', 'arrived'),\n",
       " ('in', 'has', 'and'),\n",
       " ('in', 'arrived', 'and'),\n",
       " ('India', 'has', 'arrived'),\n",
       " ('India', 'has', 'and'),\n",
       " ('India', 'has', 'its'),\n",
       " ('India', 'arrived', 'and'),\n",
       " ('India', 'arrived', 'its'),\n",
       " ('India', 'and', 'its'),\n",
       " ('has', 'arrived', 'and'),\n",
       " ('has', 'arrived', 'its'),\n",
       " ('has', 'arrived', 'raining'),\n",
       " ('has', 'and', 'its'),\n",
       " ('has', 'and', 'raining'),\n",
       " ('has', 'its', 'raining'),\n",
       " ('arrived', 'and', 'its'),\n",
       " ('arrived', 'and', 'raining'),\n",
       " ('arrived', 'and', 'heavily'),\n",
       " ('arrived', 'its', 'raining'),\n",
       " ('arrived', 'its', 'heavily'),\n",
       " ('arrived', 'raining', 'heavily'),\n",
       " ('and', 'its', 'raining'),\n",
       " ('and', 'its', 'heavily'),\n",
       " ('and', 'its', 'now'),\n",
       " ('and', 'raining', 'heavily'),\n",
       " ('and', 'raining', 'now'),\n",
       " ('and', 'heavily', 'now'),\n",
       " ('its', 'raining', 'heavily'),\n",
       " ('its', 'raining', 'now'),\n",
       " ('its', 'heavily', 'now'),\n",
       " ('raining', 'heavily', 'now')]"
      ]
     },
     "execution_count": 5,
     "metadata": {},
     "output_type": "execute_result"
    }
   ],
   "source": [
    "list(nltk.skipgrams(data_t, 3, 2)) # 3-grams with skip distance 2"
   ]
  },
  {
   "cell_type": "markdown",
   "id": "299873f5",
   "metadata": {},
   "source": [
    "# Syntactic n-grams"
   ]
  },
  {
   "cell_type": "code",
   "execution_count": 6,
   "id": "33150dfc",
   "metadata": {},
   "outputs": [
    {
     "name": "stdout",
     "output_type": "stream",
     "text": [
      "Collecting SNgramExtractor\n",
      "  Downloading SNgramExtractor-0.0.3-py3-none-any.whl (5.0 kB)\n",
      "Requirement already satisfied: spacy[en_core_news_md] in c:\\users\\ajey kumar\\.conda\\envs\\ta\\lib\\site-packages (from SNgramExtractor) (3.3.1)\n",
      "Requirement already satisfied: setuptools in c:\\users\\ajey kumar\\.conda\\envs\\ta\\lib\\site-packages (from spacy[en_core_news_md]->SNgramExtractor) (61.2.0)\n",
      "Requirement already satisfied: spacy-legacy<3.1.0,>=3.0.9 in c:\\users\\ajey kumar\\.conda\\envs\\ta\\lib\\site-packages (from spacy[en_core_news_md]->SNgramExtractor) (3.0.9)\n",
      "Requirement already satisfied: packaging>=20.0 in c:\\users\\ajey kumar\\.conda\\envs\\ta\\lib\\site-packages (from spacy[en_core_news_md]->SNgramExtractor) (21.3)\n",
      "Requirement already satisfied: numpy>=1.15.0 in c:\\users\\ajey kumar\\.conda\\envs\\ta\\lib\\site-packages (from spacy[en_core_news_md]->SNgramExtractor) (1.22.4)\n",
      "Requirement already satisfied: thinc<8.1.0,>=8.0.14 in c:\\users\\ajey kumar\\.conda\\envs\\ta\\lib\\site-packages (from spacy[en_core_news_md]->SNgramExtractor) (8.0.17)\n",
      "Requirement already satisfied: typer<0.5.0,>=0.3.0 in c:\\users\\ajey kumar\\.conda\\envs\\ta\\lib\\site-packages (from spacy[en_core_news_md]->SNgramExtractor) (0.4.1)\n",
      "Requirement already satisfied: langcodes<4.0.0,>=3.2.0 in c:\\users\\ajey kumar\\.conda\\envs\\ta\\lib\\site-packages (from spacy[en_core_news_md]->SNgramExtractor) (3.3.0)\n",
      "Requirement already satisfied: pathy>=0.3.5 in c:\\users\\ajey kumar\\.conda\\envs\\ta\\lib\\site-packages (from spacy[en_core_news_md]->SNgramExtractor) (0.6.1)\n",
      "Requirement already satisfied: jinja2 in c:\\users\\ajey kumar\\.conda\\envs\\ta\\lib\\site-packages (from spacy[en_core_news_md]->SNgramExtractor) (3.0.3)\n",
      "Requirement already satisfied: catalogue<2.1.0,>=2.0.6 in c:\\users\\ajey kumar\\.conda\\envs\\ta\\lib\\site-packages (from spacy[en_core_news_md]->SNgramExtractor) (2.0.7)\n",
      "Requirement already satisfied: murmurhash<1.1.0,>=0.28.0 in c:\\users\\ajey kumar\\.conda\\envs\\ta\\lib\\site-packages (from spacy[en_core_news_md]->SNgramExtractor) (1.0.7)\n",
      "Requirement already satisfied: tqdm<5.0.0,>=4.38.0 in c:\\users\\ajey kumar\\.conda\\envs\\ta\\lib\\site-packages (from spacy[en_core_news_md]->SNgramExtractor) (4.64.0)\n",
      "Requirement already satisfied: wasabi<1.1.0,>=0.9.1 in c:\\users\\ajey kumar\\.conda\\envs\\ta\\lib\\site-packages (from spacy[en_core_news_md]->SNgramExtractor) (0.9.1)\n",
      "Requirement already satisfied: cymem<2.1.0,>=2.0.2 in c:\\users\\ajey kumar\\.conda\\envs\\ta\\lib\\site-packages (from spacy[en_core_news_md]->SNgramExtractor) (2.0.6)\n",
      "Requirement already satisfied: pydantic!=1.8,!=1.8.1,<1.9.0,>=1.7.4 in c:\\users\\ajey kumar\\.conda\\envs\\ta\\lib\\site-packages (from spacy[en_core_news_md]->SNgramExtractor) (1.8.2)\n",
      "Requirement already satisfied: spacy-loggers<2.0.0,>=1.0.0 in c:\\users\\ajey kumar\\.conda\\envs\\ta\\lib\\site-packages (from spacy[en_core_news_md]->SNgramExtractor) (1.0.2)\n",
      "Requirement already satisfied: preshed<3.1.0,>=3.0.2 in c:\\users\\ajey kumar\\.conda\\envs\\ta\\lib\\site-packages (from spacy[en_core_news_md]->SNgramExtractor) (3.0.6)\n",
      "Requirement already satisfied: requests<3.0.0,>=2.13.0 in c:\\users\\ajey kumar\\.conda\\envs\\ta\\lib\\site-packages (from spacy[en_core_news_md]->SNgramExtractor) (2.28.0)\n",
      "Requirement already satisfied: blis<0.8.0,>=0.4.0 in c:\\users\\ajey kumar\\.conda\\envs\\ta\\lib\\site-packages (from spacy[en_core_news_md]->SNgramExtractor) (0.7.8)\n",
      "Requirement already satisfied: srsly<3.0.0,>=2.4.3 in c:\\users\\ajey kumar\\.conda\\envs\\ta\\lib\\site-packages (from spacy[en_core_news_md]->SNgramExtractor) (2.4.3)\n",
      "Requirement already satisfied: pyparsing!=3.0.5,>=2.0.2 in c:\\users\\ajey kumar\\.conda\\envs\\ta\\lib\\site-packages (from packaging>=20.0->spacy[en_core_news_md]->SNgramExtractor) (3.0.4)\n",
      "Requirement already satisfied: smart-open<6.0.0,>=5.0.0 in c:\\users\\ajey kumar\\.conda\\envs\\ta\\lib\\site-packages (from pathy>=0.3.5->spacy[en_core_news_md]->SNgramExtractor) (5.2.1)\n",
      "Requirement already satisfied: typing-extensions>=3.7.4.3 in c:\\users\\ajey kumar\\.conda\\envs\\ta\\lib\\site-packages (from pydantic!=1.8,!=1.8.1,<1.9.0,>=1.7.4->spacy[en_core_news_md]->SNgramExtractor) (4.1.1)\n",
      "Requirement already satisfied: idna<4,>=2.5 in c:\\users\\ajey kumar\\.conda\\envs\\ta\\lib\\site-packages (from requests<3.0.0,>=2.13.0->spacy[en_core_news_md]->SNgramExtractor) (3.3)\n",
      "Requirement already satisfied: certifi>=2017.4.17 in c:\\users\\ajey kumar\\.conda\\envs\\ta\\lib\\site-packages (from requests<3.0.0,>=2.13.0->spacy[en_core_news_md]->SNgramExtractor) (2021.10.8)\n",
      "Requirement already satisfied: charset-normalizer~=2.0.0 in c:\\users\\ajey kumar\\.conda\\envs\\ta\\lib\\site-packages (from requests<3.0.0,>=2.13.0->spacy[en_core_news_md]->SNgramExtractor) (2.0.12)\n",
      "Requirement already satisfied: urllib3<1.27,>=1.21.1 in c:\\users\\ajey kumar\\.conda\\envs\\ta\\lib\\site-packages (from requests<3.0.0,>=2.13.0->spacy[en_core_news_md]->SNgramExtractor) (1.26.9)\n",
      "Requirement already satisfied: colorama in c:\\users\\ajey kumar\\.conda\\envs\\ta\\lib\\site-packages (from tqdm<5.0.0,>=4.38.0->spacy[en_core_news_md]->SNgramExtractor) (0.4.4)\n",
      "Requirement already satisfied: click<9.0.0,>=7.1.1 in c:\\users\\ajey kumar\\.conda\\envs\\ta\\lib\\site-packages (from typer<0.5.0,>=0.3.0->spacy[en_core_news_md]->SNgramExtractor) (8.1.3)\n",
      "Requirement already satisfied: MarkupSafe>=2.0 in c:\\users\\ajey kumar\\.conda\\envs\\ta\\lib\\site-packages (from jinja2->spacy[en_core_news_md]->SNgramExtractor) (2.0.1)\n",
      "Installing collected packages: SNgramExtractor\n",
      "Successfully installed SNgramExtractor-0.0.3\n"
     ]
    },
    {
     "name": "stderr",
     "output_type": "stream",
     "text": [
      "  WARNING: Retrying (Retry(total=4, connect=None, read=None, redirect=None, status=None)) after connection broken by 'SSLError(SSLCertVerificationError(1, '[SSL: CERTIFICATE_VERIFY_FAILED] certificate verify failed: unable to get local issuer certificate (_ssl.c:1129)'))': /packages/f9/a1/0ce78d74adcaf63c55e5786ad35e76812443fd7e199c40c862d36007b622/SNgramExtractor-0.0.3-py3-none-any.whl\n",
      "  WARNING: Retrying (Retry(total=3, connect=None, read=None, redirect=None, status=None)) after connection broken by 'SSLError(SSLCertVerificationError(1, '[SSL: CERTIFICATE_VERIFY_FAILED] certificate verify failed: unable to get local issuer certificate (_ssl.c:1129)'))': /packages/f9/a1/0ce78d74adcaf63c55e5786ad35e76812443fd7e199c40c862d36007b622/SNgramExtractor-0.0.3-py3-none-any.whl\n",
      "  WARNING: Retrying (Retry(total=2, connect=None, read=None, redirect=None, status=None)) after connection broken by 'SSLError(SSLCertVerificationError(1, '[SSL: CERTIFICATE_VERIFY_FAILED] certificate verify failed: unable to get local issuer certificate (_ssl.c:1129)'))': /packages/f9/a1/0ce78d74adcaf63c55e5786ad35e76812443fd7e199c40c862d36007b622/SNgramExtractor-0.0.3-py3-none-any.whl\n",
      "  WARNING: Retrying (Retry(total=1, connect=None, read=None, redirect=None, status=None)) after connection broken by 'SSLError(SSLCertVerificationError(1, '[SSL: CERTIFICATE_VERIFY_FAILED] certificate verify failed: unable to get local issuer certificate (_ssl.c:1129)'))': /packages/f9/a1/0ce78d74adcaf63c55e5786ad35e76812443fd7e199c40c862d36007b622/SNgramExtractor-0.0.3-py3-none-any.whl\n",
      "WARNING: spacy 3.3.1 does not provide the extra 'en_core_news_md'\n"
     ]
    }
   ],
   "source": [
    "!pip install SNgramExtractor"
   ]
  },
  {
   "cell_type": "code",
   "execution_count": 7,
   "id": "37aaf08b",
   "metadata": {},
   "outputs": [],
   "source": [
    "from SNgramExtractor import SNgramExtractor"
   ]
  },
  {
   "cell_type": "code",
   "execution_count": 8,
   "id": "b46c94b2",
   "metadata": {},
   "outputs": [
    {
     "name": "stdout",
     "output_type": "stream",
     "text": [
      "Help on class SNgramExtractor in module SNgramExtractor:\n",
      "\n",
      "class SNgramExtractor(builtins.object)\n",
      " |  SNgramExtractor(text, meta_tag, trigram_flag='yes', nlp_model=None)\n",
      " |  \n",
      " |      text:input text\n",
      " |      meta_tag:Resultant bigram and trigram should be concatenated with part of speech tag('pos') or dependency tag('dep') or original SN-gram('original')\n",
      " |      trigram_flag:if we need to include trigrams derived from SN-grams as well ('yes') or not ('no'). Default is 'yes'\n",
      " |  w\n",
      " |  \n",
      " |  Methods defined here:\n",
      " |  \n",
      " |  __init__(self, text, meta_tag, trigram_flag='yes', nlp_model=None)\n",
      " |      Initialize self.  See help(type(self)) for accurate signature.\n",
      " |  \n",
      " |  get_SNgram(self)\n",
      " |  \n",
      " |  get_trigram_element(self, trigram_element)\n",
      " |  \n",
      " |  get_trigrams(self, left_right_words)\n",
      " |  \n",
      " |  ----------------------------------------------------------------------\n",
      " |  Data descriptors defined here:\n",
      " |  \n",
      " |  __dict__\n",
      " |      dictionary for instance variables (if defined)\n",
      " |  \n",
      " |  __weakref__\n",
      " |      list of weak references to the object (if defined)\n",
      "\n"
     ]
    }
   ],
   "source": [
    "help(SNgramExtractor)"
   ]
  },
  {
   "cell_type": "code",
   "execution_count": 11,
   "id": "43698744",
   "metadata": {},
   "outputs": [
    {
     "name": "stdout",
     "output_type": "stream",
     "text": [
      "The Mansoon in India has arrived and its raining heavily now\n",
      "\n",
      "SNGram bigram: Mansoon_The arrived_Mansoon Mansoon_in in_India arrived_has arrived_and raining_its arrived_raining raining_heavily raining_now\n",
      "\n",
      "SNGram trigram: Mansoon_in_India arrived_raining_now\n"
     ]
    }
   ],
   "source": [
    "SNgram_obj=SNgramExtractor(data,meta_tag='original',trigram_flag='yes',nlp_model=None)\n",
    "output=SNgram_obj.get_SNgram()\n",
    "print(data)\n",
    "print('\\nSNGram bigram:',output['SNBigram'])\n",
    "print('\\nSNGram trigram:',output['SNTrigram'])"
   ]
  },
  {
   "cell_type": "code",
   "execution_count": 12,
   "id": "f32f2bbe",
   "metadata": {},
   "outputs": [
    {
     "name": "stdout",
     "output_type": "stream",
     "text": [
      "The Mansoon in India has arrived and its raining heavily now\n",
      "\n",
      "SNGram bigram: Mansoon_PROPN_The_DET arrived_VERB_Mansoon_PROPN Mansoon_PROPN_in_ADP in_ADP_India_PROPN arrived_VERB_has_AUX arrived_VERB_and_CCONJ raining_VERB_its_PRON arrived_VERB_raining_VERB raining_VERB_heavily_ADV raining_VERB_now_ADV\n",
      "\n",
      "SNGram trigram: Mansoon_PROPN_in_ADP_India_PROPN arrived_VERB_raining_VERB_now_ADV\n"
     ]
    }
   ],
   "source": [
    "SNgram_obj=SNgramExtractor(data,meta_tag='pos',trigram_flag='yes',nlp_model=None)\n",
    "output=SNgram_obj.get_SNgram()\n",
    "print(data)\n",
    "print('\\nSNGram bigram:',output['SNBigram'])\n",
    "print('\\nSNGram trigram:',output['SNTrigram'])"
   ]
  },
  {
   "cell_type": "code",
   "execution_count": 13,
   "id": "9a702820",
   "metadata": {},
   "outputs": [
    {
     "name": "stdout",
     "output_type": "stream",
     "text": [
      "The Mansoon in India has arrived and its raining heavily now\n",
      "\n",
      "SNGram bigram: Mansoon_nsubj_The_det arrived_ROOT_Mansoon_nsubj Mansoon_nsubj_in_prep in_prep_India_pobj arrived_ROOT_has_aux arrived_ROOT_and_cc raining_conj_its_poss arrived_ROOT_raining_conj raining_conj_heavily_advmod raining_conj_now_advmod\n",
      "\n",
      "SNGram trigram: Mansoon_nsubj_in_prep_India_pobj arrived_ROOT_raining_conj_now_advmod\n"
     ]
    }
   ],
   "source": [
    "SNgram_obj=SNgramExtractor(data,meta_tag='dep',trigram_flag='yes',nlp_model=None)\n",
    "output=SNgram_obj.get_SNgram()\n",
    "print(data)\n",
    "print('\\nSNGram bigram:',output['SNBigram'])\n",
    "print('\\nSNGram trigram:',output['SNTrigram'])"
   ]
  },
  {
   "cell_type": "code",
   "execution_count": 14,
   "id": "f6f2efb1",
   "metadata": {},
   "outputs": [],
   "source": [
    "import spacy\n",
    "import en_core_web_sm\n",
    "nlp = en_core_web_sm.load()"
   ]
  },
  {
   "cell_type": "code",
   "execution_count": 15,
   "id": "87f41dbf",
   "metadata": {},
   "outputs": [
    {
     "data": {
      "text/plain": [
       "The Mansoon in India has arrived and its raining heavily now"
      ]
     },
     "execution_count": 15,
     "metadata": {},
     "output_type": "execute_result"
    }
   ],
   "source": [
    "doc = nlp(data)\n",
    "doc"
   ]
  },
  {
   "cell_type": "code",
   "execution_count": 16,
   "id": "6d6694d7",
   "metadata": {},
   "outputs": [],
   "source": [
    "from spacy import displacy"
   ]
  },
  {
   "cell_type": "code",
   "execution_count": 17,
   "id": "89a5ad4b",
   "metadata": {},
   "outputs": [
    {
     "data": {
      "text/html": [
       "<span class=\"tex2jax_ignore\"><svg xmlns=\"http://www.w3.org/2000/svg\" xmlns:xlink=\"http://www.w3.org/1999/xlink\" xml:lang=\"en\" id=\"b386505b7d2e44dabe34ca86028ea20a-0\" class=\"displacy\" width=\"1975\" height=\"312.0\" direction=\"ltr\" style=\"max-width: none; height: 312.0px; color: #000000; background: #ffffff; font-family: Arial; direction: ltr\">\n",
       "<text class=\"displacy-token\" fill=\"currentColor\" text-anchor=\"middle\" y=\"222.0\">\n",
       "    <tspan class=\"displacy-word\" fill=\"currentColor\" x=\"50\">The</tspan>\n",
       "    <tspan class=\"displacy-tag\" dy=\"2em\" fill=\"currentColor\" x=\"50\">DET</tspan>\n",
       "</text>\n",
       "\n",
       "<text class=\"displacy-token\" fill=\"currentColor\" text-anchor=\"middle\" y=\"222.0\">\n",
       "    <tspan class=\"displacy-word\" fill=\"currentColor\" x=\"225\">Mansoon</tspan>\n",
       "    <tspan class=\"displacy-tag\" dy=\"2em\" fill=\"currentColor\" x=\"225\">PROPN</tspan>\n",
       "</text>\n",
       "\n",
       "<text class=\"displacy-token\" fill=\"currentColor\" text-anchor=\"middle\" y=\"222.0\">\n",
       "    <tspan class=\"displacy-word\" fill=\"currentColor\" x=\"400\">in</tspan>\n",
       "    <tspan class=\"displacy-tag\" dy=\"2em\" fill=\"currentColor\" x=\"400\">ADP</tspan>\n",
       "</text>\n",
       "\n",
       "<text class=\"displacy-token\" fill=\"currentColor\" text-anchor=\"middle\" y=\"222.0\">\n",
       "    <tspan class=\"displacy-word\" fill=\"currentColor\" x=\"575\">India</tspan>\n",
       "    <tspan class=\"displacy-tag\" dy=\"2em\" fill=\"currentColor\" x=\"575\">PROPN</tspan>\n",
       "</text>\n",
       "\n",
       "<text class=\"displacy-token\" fill=\"currentColor\" text-anchor=\"middle\" y=\"222.0\">\n",
       "    <tspan class=\"displacy-word\" fill=\"currentColor\" x=\"750\">has</tspan>\n",
       "    <tspan class=\"displacy-tag\" dy=\"2em\" fill=\"currentColor\" x=\"750\">AUX</tspan>\n",
       "</text>\n",
       "\n",
       "<text class=\"displacy-token\" fill=\"currentColor\" text-anchor=\"middle\" y=\"222.0\">\n",
       "    <tspan class=\"displacy-word\" fill=\"currentColor\" x=\"925\">arrived</tspan>\n",
       "    <tspan class=\"displacy-tag\" dy=\"2em\" fill=\"currentColor\" x=\"925\">VERB</tspan>\n",
       "</text>\n",
       "\n",
       "<text class=\"displacy-token\" fill=\"currentColor\" text-anchor=\"middle\" y=\"222.0\">\n",
       "    <tspan class=\"displacy-word\" fill=\"currentColor\" x=\"1100\">and</tspan>\n",
       "    <tspan class=\"displacy-tag\" dy=\"2em\" fill=\"currentColor\" x=\"1100\">CCONJ</tspan>\n",
       "</text>\n",
       "\n",
       "<text class=\"displacy-token\" fill=\"currentColor\" text-anchor=\"middle\" y=\"222.0\">\n",
       "    <tspan class=\"displacy-word\" fill=\"currentColor\" x=\"1275\">its</tspan>\n",
       "    <tspan class=\"displacy-tag\" dy=\"2em\" fill=\"currentColor\" x=\"1275\">PRON</tspan>\n",
       "</text>\n",
       "\n",
       "<text class=\"displacy-token\" fill=\"currentColor\" text-anchor=\"middle\" y=\"222.0\">\n",
       "    <tspan class=\"displacy-word\" fill=\"currentColor\" x=\"1450\">raining</tspan>\n",
       "    <tspan class=\"displacy-tag\" dy=\"2em\" fill=\"currentColor\" x=\"1450\">VERB</tspan>\n",
       "</text>\n",
       "\n",
       "<text class=\"displacy-token\" fill=\"currentColor\" text-anchor=\"middle\" y=\"222.0\">\n",
       "    <tspan class=\"displacy-word\" fill=\"currentColor\" x=\"1625\">heavily</tspan>\n",
       "    <tspan class=\"displacy-tag\" dy=\"2em\" fill=\"currentColor\" x=\"1625\">ADV</tspan>\n",
       "</text>\n",
       "\n",
       "<text class=\"displacy-token\" fill=\"currentColor\" text-anchor=\"middle\" y=\"222.0\">\n",
       "    <tspan class=\"displacy-word\" fill=\"currentColor\" x=\"1800\">now</tspan>\n",
       "    <tspan class=\"displacy-tag\" dy=\"2em\" fill=\"currentColor\" x=\"1800\">ADV</tspan>\n",
       "</text>\n",
       "\n",
       "<g class=\"displacy-arrow\">\n",
       "    <path class=\"displacy-arc\" id=\"arrow-b386505b7d2e44dabe34ca86028ea20a-0-0\" stroke-width=\"2px\" d=\"M70,177.0 C70,89.5 220.0,89.5 220.0,177.0\" fill=\"none\" stroke=\"currentColor\"/>\n",
       "    <text dy=\"1.25em\" style=\"font-size: 0.8em; letter-spacing: 1px\">\n",
       "        <textPath xlink:href=\"#arrow-b386505b7d2e44dabe34ca86028ea20a-0-0\" class=\"displacy-label\" startOffset=\"50%\" side=\"left\" fill=\"currentColor\" text-anchor=\"middle\">det</textPath>\n",
       "    </text>\n",
       "    <path class=\"displacy-arrowhead\" d=\"M70,179.0 L62,167.0 78,167.0\" fill=\"currentColor\"/>\n",
       "</g>\n",
       "\n",
       "<g class=\"displacy-arrow\">\n",
       "    <path class=\"displacy-arc\" id=\"arrow-b386505b7d2e44dabe34ca86028ea20a-0-1\" stroke-width=\"2px\" d=\"M245,177.0 C245,2.0 925.0,2.0 925.0,177.0\" fill=\"none\" stroke=\"currentColor\"/>\n",
       "    <text dy=\"1.25em\" style=\"font-size: 0.8em; letter-spacing: 1px\">\n",
       "        <textPath xlink:href=\"#arrow-b386505b7d2e44dabe34ca86028ea20a-0-1\" class=\"displacy-label\" startOffset=\"50%\" side=\"left\" fill=\"currentColor\" text-anchor=\"middle\">nsubj</textPath>\n",
       "    </text>\n",
       "    <path class=\"displacy-arrowhead\" d=\"M245,179.0 L237,167.0 253,167.0\" fill=\"currentColor\"/>\n",
       "</g>\n",
       "\n",
       "<g class=\"displacy-arrow\">\n",
       "    <path class=\"displacy-arc\" id=\"arrow-b386505b7d2e44dabe34ca86028ea20a-0-2\" stroke-width=\"2px\" d=\"M245,177.0 C245,89.5 395.0,89.5 395.0,177.0\" fill=\"none\" stroke=\"currentColor\"/>\n",
       "    <text dy=\"1.25em\" style=\"font-size: 0.8em; letter-spacing: 1px\">\n",
       "        <textPath xlink:href=\"#arrow-b386505b7d2e44dabe34ca86028ea20a-0-2\" class=\"displacy-label\" startOffset=\"50%\" side=\"left\" fill=\"currentColor\" text-anchor=\"middle\">prep</textPath>\n",
       "    </text>\n",
       "    <path class=\"displacy-arrowhead\" d=\"M395.0,179.0 L403.0,167.0 387.0,167.0\" fill=\"currentColor\"/>\n",
       "</g>\n",
       "\n",
       "<g class=\"displacy-arrow\">\n",
       "    <path class=\"displacy-arc\" id=\"arrow-b386505b7d2e44dabe34ca86028ea20a-0-3\" stroke-width=\"2px\" d=\"M420,177.0 C420,89.5 570.0,89.5 570.0,177.0\" fill=\"none\" stroke=\"currentColor\"/>\n",
       "    <text dy=\"1.25em\" style=\"font-size: 0.8em; letter-spacing: 1px\">\n",
       "        <textPath xlink:href=\"#arrow-b386505b7d2e44dabe34ca86028ea20a-0-3\" class=\"displacy-label\" startOffset=\"50%\" side=\"left\" fill=\"currentColor\" text-anchor=\"middle\">pobj</textPath>\n",
       "    </text>\n",
       "    <path class=\"displacy-arrowhead\" d=\"M570.0,179.0 L578.0,167.0 562.0,167.0\" fill=\"currentColor\"/>\n",
       "</g>\n",
       "\n",
       "<g class=\"displacy-arrow\">\n",
       "    <path class=\"displacy-arc\" id=\"arrow-b386505b7d2e44dabe34ca86028ea20a-0-4\" stroke-width=\"2px\" d=\"M770,177.0 C770,89.5 920.0,89.5 920.0,177.0\" fill=\"none\" stroke=\"currentColor\"/>\n",
       "    <text dy=\"1.25em\" style=\"font-size: 0.8em; letter-spacing: 1px\">\n",
       "        <textPath xlink:href=\"#arrow-b386505b7d2e44dabe34ca86028ea20a-0-4\" class=\"displacy-label\" startOffset=\"50%\" side=\"left\" fill=\"currentColor\" text-anchor=\"middle\">aux</textPath>\n",
       "    </text>\n",
       "    <path class=\"displacy-arrowhead\" d=\"M770,179.0 L762,167.0 778,167.0\" fill=\"currentColor\"/>\n",
       "</g>\n",
       "\n",
       "<g class=\"displacy-arrow\">\n",
       "    <path class=\"displacy-arc\" id=\"arrow-b386505b7d2e44dabe34ca86028ea20a-0-5\" stroke-width=\"2px\" d=\"M945,177.0 C945,89.5 1095.0,89.5 1095.0,177.0\" fill=\"none\" stroke=\"currentColor\"/>\n",
       "    <text dy=\"1.25em\" style=\"font-size: 0.8em; letter-spacing: 1px\">\n",
       "        <textPath xlink:href=\"#arrow-b386505b7d2e44dabe34ca86028ea20a-0-5\" class=\"displacy-label\" startOffset=\"50%\" side=\"left\" fill=\"currentColor\" text-anchor=\"middle\">cc</textPath>\n",
       "    </text>\n",
       "    <path class=\"displacy-arrowhead\" d=\"M1095.0,179.0 L1103.0,167.0 1087.0,167.0\" fill=\"currentColor\"/>\n",
       "</g>\n",
       "\n",
       "<g class=\"displacy-arrow\">\n",
       "    <path class=\"displacy-arc\" id=\"arrow-b386505b7d2e44dabe34ca86028ea20a-0-6\" stroke-width=\"2px\" d=\"M1295,177.0 C1295,89.5 1445.0,89.5 1445.0,177.0\" fill=\"none\" stroke=\"currentColor\"/>\n",
       "    <text dy=\"1.25em\" style=\"font-size: 0.8em; letter-spacing: 1px\">\n",
       "        <textPath xlink:href=\"#arrow-b386505b7d2e44dabe34ca86028ea20a-0-6\" class=\"displacy-label\" startOffset=\"50%\" side=\"left\" fill=\"currentColor\" text-anchor=\"middle\">poss</textPath>\n",
       "    </text>\n",
       "    <path class=\"displacy-arrowhead\" d=\"M1295,179.0 L1287,167.0 1303,167.0\" fill=\"currentColor\"/>\n",
       "</g>\n",
       "\n",
       "<g class=\"displacy-arrow\">\n",
       "    <path class=\"displacy-arc\" id=\"arrow-b386505b7d2e44dabe34ca86028ea20a-0-7\" stroke-width=\"2px\" d=\"M945,177.0 C945,2.0 1450.0,2.0 1450.0,177.0\" fill=\"none\" stroke=\"currentColor\"/>\n",
       "    <text dy=\"1.25em\" style=\"font-size: 0.8em; letter-spacing: 1px\">\n",
       "        <textPath xlink:href=\"#arrow-b386505b7d2e44dabe34ca86028ea20a-0-7\" class=\"displacy-label\" startOffset=\"50%\" side=\"left\" fill=\"currentColor\" text-anchor=\"middle\">conj</textPath>\n",
       "    </text>\n",
       "    <path class=\"displacy-arrowhead\" d=\"M1450.0,179.0 L1458.0,167.0 1442.0,167.0\" fill=\"currentColor\"/>\n",
       "</g>\n",
       "\n",
       "<g class=\"displacy-arrow\">\n",
       "    <path class=\"displacy-arc\" id=\"arrow-b386505b7d2e44dabe34ca86028ea20a-0-8\" stroke-width=\"2px\" d=\"M1470,177.0 C1470,89.5 1620.0,89.5 1620.0,177.0\" fill=\"none\" stroke=\"currentColor\"/>\n",
       "    <text dy=\"1.25em\" style=\"font-size: 0.8em; letter-spacing: 1px\">\n",
       "        <textPath xlink:href=\"#arrow-b386505b7d2e44dabe34ca86028ea20a-0-8\" class=\"displacy-label\" startOffset=\"50%\" side=\"left\" fill=\"currentColor\" text-anchor=\"middle\">advmod</textPath>\n",
       "    </text>\n",
       "    <path class=\"displacy-arrowhead\" d=\"M1620.0,179.0 L1628.0,167.0 1612.0,167.0\" fill=\"currentColor\"/>\n",
       "</g>\n",
       "\n",
       "<g class=\"displacy-arrow\">\n",
       "    <path class=\"displacy-arc\" id=\"arrow-b386505b7d2e44dabe34ca86028ea20a-0-9\" stroke-width=\"2px\" d=\"M1470,177.0 C1470,2.0 1800.0,2.0 1800.0,177.0\" fill=\"none\" stroke=\"currentColor\"/>\n",
       "    <text dy=\"1.25em\" style=\"font-size: 0.8em; letter-spacing: 1px\">\n",
       "        <textPath xlink:href=\"#arrow-b386505b7d2e44dabe34ca86028ea20a-0-9\" class=\"displacy-label\" startOffset=\"50%\" side=\"left\" fill=\"currentColor\" text-anchor=\"middle\">advmod</textPath>\n",
       "    </text>\n",
       "    <path class=\"displacy-arrowhead\" d=\"M1800.0,179.0 L1808.0,167.0 1792.0,167.0\" fill=\"currentColor\"/>\n",
       "</g>\n",
       "</svg></span>"
      ],
      "text/plain": [
       "<IPython.core.display.HTML object>"
      ]
     },
     "metadata": {},
     "output_type": "display_data"
    }
   ],
   "source": [
    "displacy.render(doc, style='dep')"
   ]
  },
  {
   "cell_type": "code",
   "execution_count": 18,
   "id": "9b8c87c7",
   "metadata": {},
   "outputs": [
    {
     "name": "stdout",
     "output_type": "stream",
     "text": [
      "The Mansoon in India has arrived and its raining heavily now\n",
      "\n",
      "SNGram bigram: Mansoon_The arrived_Mansoon Mansoon_in in_India arrived_has arrived_and raining_its arrived_raining raining_heavily raining_now\n",
      "\n",
      "SNGram trigram: Mansoon_in_India arrived_raining_now\n"
     ]
    }
   ],
   "source": [
    "SNgram_obj=SNgramExtractor(data,meta_tag='original',trigram_flag='yes',nlp_model=None)\n",
    "output=SNgram_obj.get_SNgram()\n",
    "print(data)\n",
    "print('\\nSNGram bigram:',output['SNBigram'])\n",
    "print('\\nSNGram trigram:',output['SNTrigram'])"
   ]
  }
 ],
 "metadata": {
  "kernelspec": {
   "display_name": "Python 3 (ipykernel)",
   "language": "python",
   "name": "python3"
  },
  "language_info": {
   "codemirror_mode": {
    "name": "ipython",
    "version": 3
   },
   "file_extension": ".py",
   "mimetype": "text/x-python",
   "name": "python",
   "nbconvert_exporter": "python",
   "pygments_lexer": "ipython3",
   "version": "3.9.12"
  }
 },
 "nbformat": 4,
 "nbformat_minor": 5
}
